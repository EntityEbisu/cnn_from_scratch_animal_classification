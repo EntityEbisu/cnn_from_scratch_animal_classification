{
 "cells": [
  {
   "cell_type": "markdown",
   "id": "6782d8db-c830-4f72-a76c-1c127744ec4f",
   "metadata": {},
   "source": [
    "# CNN for Animal Type Classification (6 Classes)\n",
    "**Submission for:** Data Scientist Intern — Finpros  \n"
   ]
  },
  {
   "cell_type": "markdown",
   "id": "fd76f1de",
   "metadata": {},
   "source": [
    "**UPDATE:** The Notebook was uploaded to Kaggle to make use of the free GPU resource (Tesla T4 x2) to test performance difference to that of the local laptop"
   ]
  },
  {
   "cell_type": "markdown",
   "id": "0074d46e-cef8-4b68-9fc0-03e1b00ab749",
   "metadata": {},
   "source": [
    "### ========== 1. Import Libraries and Define Global Parameters ==========\n"
   ]
  },
  {
   "cell_type": "code",
   "execution_count": 1,
   "id": "f1b0e520-07d5-4b24-8bb5-d66cc1230c80",
   "metadata": {
    "execution": {
     "iopub.execute_input": "2025-08-06T04:03:27.684001Z",
     "iopub.status.busy": "2025-08-06T04:03:27.683466Z",
     "iopub.status.idle": "2025-08-06T04:03:42.558648Z",
     "shell.execute_reply": "2025-08-06T04:03:42.557905Z",
     "shell.execute_reply.started": "2025-08-06T04:03:27.683978Z"
    },
    "trusted": true
   },
   "outputs": [
    {
     "name": "stderr",
     "output_type": "stream",
     "text": [
      "2025-08-06 04:03:29.263484: E external/local_xla/xla/stream_executor/cuda/cuda_fft.cc:477] Unable to register cuFFT factory: Attempting to register factory for plugin cuFFT when one has already been registered\n",
      "WARNING: All log messages before absl::InitializeLog() is called are written to STDERR\n",
      "E0000 00:00:1754453009.484305      36 cuda_dnn.cc:8310] Unable to register cuDNN factory: Attempting to register factory for plugin cuDNN when one has already been registered\n",
      "E0000 00:00:1754453009.545196      36 cuda_blas.cc:1418] Unable to register cuBLAS factory: Attempting to register factory for plugin cuBLAS when one has already been registered\n"
     ]
    },
    {
     "name": "stdout",
     "output_type": "stream",
     "text": [
      "Num GPUs Available:  2\n",
      "TensorFlow is using GPU: True\n",
      "✅ GPU device detected: /device:GPU:0\n"
     ]
    },
    {
     "name": "stderr",
     "output_type": "stream",
     "text": [
      "I0000 00:00:1754453022.551671      36 gpu_device.cc:2022] Created device /device:GPU:0 with 13942 MB memory:  -> device: 0, name: Tesla T4, pci bus id: 0000:00:04.0, compute capability: 7.5\n",
      "I0000 00:00:1754453022.552321      36 gpu_device.cc:2022] Created device /device:GPU:1 with 13942 MB memory:  -> device: 1, name: Tesla T4, pci bus id: 0000:00:05.0, compute capability: 7.5\n",
      "I0000 00:00:1754453022.555400      36 gpu_device.cc:2022] Created device /device:GPU:0 with 13942 MB memory:  -> device: 0, name: Tesla T4, pci bus id: 0000:00:04.0, compute capability: 7.5\n",
      "I0000 00:00:1754453022.555619      36 gpu_device.cc:2022] Created device /device:GPU:1 with 13942 MB memory:  -> device: 1, name: Tesla T4, pci bus id: 0000:00:05.0, compute capability: 7.5\n"
     ]
    }
   ],
   "source": [
    "import tensorflow as tf\n",
    "\n",
    "# Check if TensorFlow sees GPU\n",
    "print(\"Num GPUs Available: \", len(tf.config.list_physical_devices('GPU')))\n",
    "print(\"TensorFlow is using GPU:\", tf.test.is_gpu_available())\n",
    "\n",
    "# Print GPU device name\n",
    "device_name = tf.test.gpu_device_name()\n",
    "if device_name:\n",
    "    print(f\"✅ GPU device detected: {device_name}\")\n",
    "else:\n",
    "    print(\"❌ No GPU device detected.\")\n"
   ]
  },
  {
   "cell_type": "code",
   "execution_count": 12,
   "id": "046f8879-6867-4a80-86e1-082e792ad1f4",
   "metadata": {
    "execution": {
     "iopub.execute_input": "2025-08-06T04:10:18.906612Z",
     "iopub.status.busy": "2025-08-06T04:10:18.906020Z",
     "iopub.status.idle": "2025-08-06T04:10:18.911450Z",
     "shell.execute_reply": "2025-08-06T04:10:18.910834Z",
     "shell.execute_reply.started": "2025-08-06T04:10:18.906573Z"
    },
    "trusted": true
   },
   "outputs": [],
   "source": [
    "import os\n",
    "import zipfile\n",
    "import shutil\n",
    "from pathlib import Path\n",
    "import tensorflow as tf\n",
    "from tensorflow.keras import layers, models\n",
    "from tensorflow.keras.optimizers import Adam\n",
    "from tensorflow.keras.callbacks import EarlyStopping\n",
    "import matplotlib.pyplot as plt\n",
    "import numpy as np\n",
    "\n",
    "# Define project-wide variables. Centralizing these makes the code highly configurable.\n",
    "DATASET_PATH = '/kaggle/input/6-animals-dataset/kaggle_animal_dataset'              # Path to the directory containing the original zipped dataset.\n",
    "OUTPUT_DIR = './kaggle/working/processed_animal_data'                               # Dedicated output directory for this submission.\n",
    "NUM_CLASSES = 6                         # Number of animal classes for classification.\n",
    "IMAGE_SIZE = (64, 64)                   # Uniform size to which all images will be resized.\n",
    "BATCH_SIZE = 32                         # Number of samples processed in one forward/backward pass.\n",
    "SEED = 123                              # Random seed for reproducibility across runs.\n",
    "EPOCHS = 30                             # Number of training epochs.\n",
    "\n",
    "# Selected classes for a more focused and achievable classification task, chosen for diversity.\n",
    "SELECTED_ZIPS = [\n",
    "    'cat.zip', 'dog.zip', 'spider.zip', \n",
    "    'chicken.zip', 'cow.zip', 'horse.zip'\n",
    "]"
   ]
  },
  {
   "cell_type": "markdown",
   "id": "eb0f7c60-c193-43b9-95b5-7cce20a811da",
   "metadata": {},
   "source": [
    "### ========== 2. Modular Data Preparation Functions ==========\n",
    "Encapsulating data handling logic into functions to improve readability"
   ]
  },
  {
   "cell_type": "markdown",
   "id": "012a740f-7af9-4ead-9eb1-54f4eca88f6c",
   "metadata": {},
   "source": [
    "**FUNCTION**: Prepare Dataset\n",
    "Unzips selected animal image files and prepares TensorFlow datasets for training and validation.\n",
    "\n",
    "#### This function handles the entire data pipeline:\n",
    "1. Cleans and sets up the output directory to ensure a fresh start.\n",
    "2. Extracts specified zipped image folders.\n",
    "3. Loads images into TensorFlow datasets, splitting them into training and validation sets.\n",
    "4. Configures datasets for optimal performance (caching, shuffling, prefetching).\n",
    "5. Applies data augmentation (RandomFlip, RandomRotation, RandomZoom) to the training set to improve model generalization by creating diverse training examples.\n",
    "6. Normalizes pixel values to the [0, 255] range, which is crucial for neural network performance.\n",
    "\n",
    "**Args**:\n",
    "- `dataset_path` (str): Path to the directory containing the zipped datasets.\n",
    "- `output_dir` (str): Directory where images will be unzipped and processed.\n",
    "- `selected_zips` (list): List of zip file names (e.g., 'cat.zip') to be processed.\n",
    "- `image_size` (tuple): Desired image size (height, width) for resizing.\n",
    "- `batch_size` (int): Number of samples per batch for dataset loading.\n",
    "- `seed` (int): Random seed for reproducible data splitting and shuffling.\n",
    "\n",
    "**Returns**:\n",
    "- tuple: A tuple containing:\n",
    "  - `train_ds` (tf.data.Dataset): The prepared training dataset.\n",
    "  - `val_ds` (tf.data.Dataset): The prepared validation dataset.\n",
    "  - `class_names` (list): A list of class names inferred from directory structure."
   ]
  },
  {
   "cell_type": "code",
   "execution_count": 4,
   "id": "caf7bc04-3185-47c3-9c13-ed7e0401d26f",
   "metadata": {
    "execution": {
     "iopub.execute_input": "2025-08-06T03:55:40.845303Z",
     "iopub.status.busy": "2025-08-06T03:55:40.844533Z",
     "iopub.status.idle": "2025-08-06T03:55:40.853435Z",
     "shell.execute_reply": "2025-08-06T03:55:40.852780Z",
     "shell.execute_reply.started": "2025-08-06T03:55:40.845278Z"
    },
    "jupyter": {
     "source_hidden": true
    },
    "trusted": true
   },
   "outputs": [],
   "source": [
    "def prepare_dataset(dataset_path, output_dir, selected_zips, image_size, batch_size, seed):\n",
    "    # Clean and set up the output directory to ensure only selected data is processed.\n",
    "    if os.path.exists(output_dir):\n",
    "        print(f\"Cleaning existing directory: {output_dir}\")\n",
    "        shutil.rmtree(output_dir)\n",
    "    os.makedirs(output_dir)\n",
    "\n",
    "    print(\"--- Unzipping selected data files ---\")\n",
    "    for zip_file in selected_zips:\n",
    "        source_path = os.path.join(dataset_path, zip_file)\n",
    "        destination_path = os.path.join(output_dir, os.path.splitext(zip_file)[0]) # Extract to folder named after zip\n",
    "        if os.path.exists(source_path):\n",
    "            with zipfile.ZipFile(source_path, 'r') as z:\n",
    "                z.extractall(output_dir)\n",
    "            print(f\"Successfully unzipped '{zip_file}' to '{destination_path}'\")\n",
    "        else:\n",
    "            print(f\"Error: File '{zip_file}' not found at '{source_path}'. Please check DATASET_PATH.\")\n",
    "            # Exit or raise error if critical data is missing\n",
    "            exit() \n",
    "\n",
    "    print(\"\\n--- Preparing training and validation datasets ---\")\n",
    "    # Load images from directory. Keras automatically infers labels from subfolder names.\n",
    "    train_ds = tf.keras.utils.image_dataset_from_directory(\n",
    "        output_dir,\n",
    "        validation_split=0.2, # 20% of data for validation set.\n",
    "        subset=\"training\",\n",
    "        seed=seed,\n",
    "        image_size=image_size,\n",
    "        batch_size=batch_size)\n",
    "    \n",
    "    val_ds = tf.keras.utils.image_dataset_from_directory(\n",
    "        output_dir,\n",
    "        validation_split=0.2,\n",
    "        subset=\"validation\",\n",
    "        seed=seed,\n",
    "        image_size=image_size,\n",
    "        batch_size=batch_size)\n",
    "\n",
    "    class_names = train_ds.class_names\n",
    "    print(f\"Found class names: {class_names}\")\n",
    "    \n",
    "    # Configure datasets for optimal performance.\n",
    "    # .cache() keeps images in memory after first epoch for faster subsequent epochs.\n",
    "    # .shuffle() shuffles data for better generalization.\n",
    "    # .prefetch() overlaps data preprocessing and model execution.\n",
    "    AUTOTUNE = tf.data.AUTOTUNE\n",
    "    train_ds = train_ds.cache().shuffle(1000).prefetch(buffer_size=AUTOTUNE)\n",
    "    val_ds = val_ds.cache().prefetch(buffer_size=AUTOTUNE)\n",
    "\n",
    "    # Data augmentation layers: Applied to training data to increase dataset diversity\n",
    "    # and improve model's ability to generalize to unseen variations.\n",
    "    data_augmentation = tf.keras.Sequential([\n",
    "        layers.RandomFlip(\"horizontal\", input_shape=(image_size[0], image_size[1], 3)), # Randomly flip images horizontally.\n",
    "        layers.RandomRotation(0.1),  # Randomly rotate images by up to 10% of 360 degrees.\n",
    "        layers.RandomZoom(0.1),      # Randomly zoom in/out on images by up to 10%.\n",
    "    ], name=\"data_augmentation_pipeline\")\n",
    "\n",
    "    # Normalization layer: Rescales pixel values from [0, 255] to [0, 1].\n",
    "    # This is standard practice as neural networks perform better with small input values.\n",
    "    normalization_layer = layers.Rescaling(1./255, name=\"pixel_normalization\")\n",
    "\n",
    "    # Apply preprocessing to the datasets.\n",
    "    # Data augmentation is applied only to the training set.\n",
    "    train_ds = train_ds.map(lambda x, y: (data_augmentation(x), y))\n",
    "    train_ds = train_ds.map(lambda x, y: (normalization_layer(x), y))\n",
    "    # Normalization is applied to both training and validation sets.\n",
    "    val_ds = val_ds.map(lambda x, y: (normalization_layer(x), y))\n",
    "\n",
    "    return train_ds, val_ds, class_names"
   ]
  },
  {
   "cell_type": "code",
   "execution_count": 9,
   "id": "ba73ce21-481c-433d-a5ad-ca78b74dfa8b",
   "metadata": {
    "execution": {
     "iopub.execute_input": "2025-08-06T04:06:09.935503Z",
     "iopub.status.busy": "2025-08-06T04:06:09.934762Z",
     "iopub.status.idle": "2025-08-06T04:06:09.943144Z",
     "shell.execute_reply": "2025-08-06T04:06:09.942597Z",
     "shell.execute_reply.started": "2025-08-06T04:06:09.935468Z"
    },
    "trusted": true
   },
   "outputs": [],
   "source": [
    "def prepare_dataset_kaggle(original_dataset_path, image_size, batch_size, seed):\n",
    "    \"\"\"\n",
    "    Prepares the dataset for Kaggle GPU environment, where folders are nested like class/class/.\n",
    "    Flattens them into /kaggle/working/flattened_dataset and applies preprocessing pipeline.\n",
    "    \"\"\"\n",
    "\n",
    "    print(\"--- Flattening nested class folders ---\")\n",
    "    flat_output_dir = Path(\"/kaggle/working/flattened_dataset\")\n",
    "    flat_output_dir.mkdir(parents=True, exist_ok=True)\n",
    "\n",
    "    for class_folder in Path(original_dataset_path).iterdir():\n",
    "        if class_folder.is_dir():\n",
    "            inner_folder = next(class_folder.iterdir())  # e.g., cat/cat\n",
    "            target_path = flat_output_dir / class_folder.name\n",
    "            if not target_path.exists():\n",
    "                os.symlink(inner_folder, target_path, target_is_directory=True)\n",
    "\n",
    "    print(f\"✅ Flattened dataset directory ready at {flat_output_dir}\")\n",
    "\n",
    "    print(\"\\n--- Preparing training and validation datasets ---\")\n",
    "    train_ds = tf.keras.utils.image_dataset_from_directory(\n",
    "        flat_output_dir,\n",
    "        validation_split=0.2,\n",
    "        subset=\"training\",\n",
    "        seed=seed,\n",
    "        image_size=image_size,\n",
    "        batch_size=batch_size\n",
    "    )\n",
    "\n",
    "    val_ds = tf.keras.utils.image_dataset_from_directory(\n",
    "        flat_output_dir,\n",
    "        validation_split=0.2,\n",
    "        subset=\"validation\",\n",
    "        seed=seed,\n",
    "        image_size=image_size,\n",
    "        batch_size=batch_size\n",
    "    )\n",
    "\n",
    "    class_names = train_ds.class_names\n",
    "    print(f\"Found class names: {class_names}\")\n",
    "\n",
    "    AUTOTUNE = tf.data.AUTOTUNE\n",
    "    train_ds = train_ds.cache().shuffle(1000).prefetch(buffer_size=AUTOTUNE)\n",
    "    val_ds = val_ds.cache().prefetch(buffer_size=AUTOTUNE)\n",
    "\n",
    "    data_augmentation = tf.keras.Sequential([\n",
    "        layers.RandomFlip(\"horizontal\", input_shape=(image_size[0], image_size[1], 3)),\n",
    "        layers.RandomRotation(0.1),\n",
    "        layers.RandomZoom(0.1),\n",
    "    ], name=\"data_augmentation_pipeline\")\n",
    "\n",
    "    normalization_layer = layers.Rescaling(1./255, name=\"pixel_normalization\")\n",
    "\n",
    "    train_ds = train_ds.map(lambda x, y: (data_augmentation(x), y))\n",
    "    train_ds = train_ds.map(lambda x, y: (normalization_layer(x), y))\n",
    "    val_ds = val_ds.map(lambda x, y: (normalization_layer(x), y))\n",
    "\n",
    "    return train_ds, val_ds, class_names\n"
   ]
  },
  {
   "cell_type": "markdown",
   "id": "af610927-d12f-4027-b7b2-3adf4d5cab64",
   "metadata": {},
   "source": [
    "### ========== 3. Model Construction and Justification ==========\n",
    "This section defines the CNN architecture with justifications for design choices"
   ]
  },
  {
   "cell_type": "markdown",
   "id": "af29a4ce-ca2a-4df6-99e9-a35124300429",
   "metadata": {},
   "source": [
    "**FUNCTION**: Build Model\n",
    "Constructs a Convolutional Neural Network (CNN) model for image classification.\n",
    "\n",
    "The architecture is designed to be moderately complex, balancing learning capacity with computational efficiency for 64x64 pixel images. It incorporates best practices like increasing filter counts in deeper layers and using regularization techniques.\n",
    "\n",
    "**Args**:\n",
    "- `input_shape` (tuple): The shape of the input images (height, width, channels).\n",
    "- `num_classes` (int): The number of output classes for the classification task.\n",
    "\n",
    "**Returns**:\n",
    "- `tf.keras.Model`: The compiled CNN model ready for training.\n",
    "\n",
    "**Model Compilation**:\n",
    "- **Optimizer**: Adam is chosen for its efficiency and adaptive learning rate capabilities, making it suitable for a wide range of deep learning tasks.\n",
    "- **Learning Rate**: Set to 0.0005, a value found to offer a good balance between training speed and stability in previous experiments.\n",
    "- **Loss Function**: SparseCategoricalCrossentropy is appropriate for multi-class classification with integer labels, and `from_logits=True` is used because the output layer provides raw logits.\n",
    "- **Metrics**: 'accuracy' is monitored to evaluate classification performance."
   ]
  },
  {
   "cell_type": "code",
   "execution_count": 7,
   "id": "1ed4a524-3c39-4d9b-bef9-cb6d4497bee6",
   "metadata": {
    "execution": {
     "iopub.execute_input": "2025-08-06T04:04:27.793911Z",
     "iopub.status.busy": "2025-08-06T04:04:27.793637Z",
     "iopub.status.idle": "2025-08-06T04:04:27.801398Z",
     "shell.execute_reply": "2025-08-06T04:04:27.800573Z",
     "shell.execute_reply.started": "2025-08-06T04:04:27.793893Z"
    },
    "trusted": true
   },
   "outputs": [],
   "source": [
    "def build_model(input_shape, num_classes):\n",
    "    print(\"\\n--- Building the CNN Model Architecture ---\")\n",
    "    model = models.Sequential([\n",
    "        # IMPORTANT FIX: Data augmentation and pixel normalization layers are REMOVED from here.\n",
    "        # They are already applied to the datasets in the `prepare_dataset` function.\n",
    "        # Placing them here would result in double application and incorrect behavior.\n",
    "        \n",
    "        # Block 1: Initial feature extraction.\n",
    "        # Uses 64 filters to capture a broad range of low-level features (e.g., edges, textures).\n",
    "        # BatchNormalization is applied after Conv2D to stabilize training and accelerate convergence.\n",
    "        layers.Conv2D(64, (3, 3), activation='relu', padding='same', input_shape=input_shape, name=\"conv2d_1\"), # input_shape added here\n",
    "        layers.BatchNormalization(name=\"batch_norm_1\"),\n",
    "        layers.MaxPooling2D((2, 2), name=\"max_pooling_1\"),\n",
    "        \n",
    "        # Block 2: Deeper feature extraction.\n",
    "        # Increases to 128 filters to learn more intricate patterns.\n",
    "        layers.Conv2D(128, (3, 3), activation='relu', padding='same', name=\"conv2d_2\"),\n",
    "        layers.BatchNormalization(name=\"batch_norm_2\"),\n",
    "        layers.MaxPooling2D((2, 2), name=\"max_pooling_2\"),\n",
    "        \n",
    "        # Block 3: Further feature refinement.\n",
    "        # Uses 256 filters to detect highly abstract features.\n",
    "        layers.Conv2D(256, (3, 3), activation='relu', padding='same', name=\"conv2d_3\"),\n",
    "        layers.BatchNormalization(name=\"batch_norm_3\"),\n",
    "        layers.MaxPooling2D((2, 2), name=\"max_pooling_3\"),\n",
    "        \n",
    "        # Flatten the 3D feature maps to a 1D vector for input into dense layers.\n",
    "        layers.Flatten(name=\"flatten_layer\"),\n",
    "        \n",
    "        # A large Dense layer to perform high-level classification based on the extracted features.\n",
    "        # 512 units provide significant capacity for complex decision-making.\n",
    "        layers.Dense(512, activation='relu', name=\"dense_1\"),\n",
    "        \n",
    "        # Dropout layer: A regularization technique to prevent overfitting by randomly\n",
    "        # setting a fraction (0.4 or 40%) of input units to 0 at each update step during training.\n",
    "        layers.Dropout(0.4, name=\"dropout_layer\"), \n",
    "        \n",
    "        # FIX: The final Dense layer outputs probabilities using 'softmax' activation.\n",
    "        layers.Dense(num_classes, activation='softmax', name=\"output_layer\")\n",
    "    ], name=\"finpros_6_class_cnn_model\")\n",
    "\n",
    "    # Display a summary of the model's architecture, including layer types, output shapes, and parameter counts.\n",
    "    model.summary()\n",
    "\n",
    "    # Model Compilation: Defines the optimizer, loss function, and metrics.\n",
    "    # Optimizer: Adam is chosen for its efficiency and adaptive learning rate capabilities,\n",
    "    #            making it suitable for a wide range of deep learning tasks.\n",
    "    # Learning Rate: Set to 0.0005, a value found to offer a good balance between\n",
    "    #                training speed and stability in previous experiments.\n",
    "    # Loss Function: SparseCategoricalCrossentropy is appropriate for multi-class\n",
    "    #                classification with integer labels.\n",
    "    # FIX: `from_logits=False` is used because the output layer now explicitly\n",
    "    #      applies a 'softmax' activation. This prevents numerical instability.\n",
    "    # Metrics: 'accuracy' is monitored to evaluate classification performance.\n",
    "    print(\"\\n--- Compiling the Model ---\")\n",
    "    model.compile(optimizer=Adam(learning_rate=0.0005),\n",
    "                  loss=tf.keras.losses.SparseCategoricalCrossentropy(from_logits=False),\n",
    "                  metrics=['accuracy'])\n",
    "    \n",
    "    return model"
   ]
  },
  {
   "cell_type": "markdown",
   "id": "572646f4-d8d4-446e-9463-31d6f4b50419",
   "metadata": {},
   "source": [
    "### ========== 4. Main Execution Block ==========\n",
    "This block orchestrates the data preparation, model building, and training process. It's structured to be runnable from top to bottom, ensuring reproducibility."
   ]
  },
  {
   "cell_type": "code",
   "execution_count": 15,
   "id": "7ac5b392-4eb4-4235-8980-2dd6af717b77",
   "metadata": {
    "execution": {
     "iopub.execute_input": "2025-08-06T04:15:32.923698Z",
     "iopub.status.busy": "2025-08-06T04:15:32.922884Z",
     "iopub.status.idle": "2025-08-06T04:19:35.992967Z",
     "shell.execute_reply": "2025-08-06T04:19:35.992397Z",
     "shell.execute_reply.started": "2025-08-06T04:15:32.923663Z"
    },
    "trusted": true
   },
   "outputs": [
    {
     "name": "stdout",
     "output_type": "stream",
     "text": [
      "--- Initiating Data Preparation ---\n",
      "--- Flattening nested class folders ---\n",
      "✅ Flattened dataset directory ready at /kaggle/working/flattened_dataset\n",
      "\n",
      "--- Preparing training and validation datasets ---\n",
      "Found 18939 files belonging to 6 classes.\n",
      "Using 15152 files for training.\n",
      "Found 18939 files belonging to 6 classes.\n",
      "Using 3787 files for validation.\n",
      "Found class names: ['cat', 'chicken', 'cow', 'dog', 'horse', 'spider']\n",
      "\n",
      "--- Verifying Dataset Class Names ---\n",
      "Train dataset class names: ['cat', 'chicken', 'cow', 'dog', 'horse', 'spider']\n",
      "Validation dataset class names: ['cat', 'chicken', 'cow', 'dog', 'horse', 'spider']\n",
      "\n",
      "--- Initiating Model Building ---\n",
      "\n",
      "--- Building the CNN Model Architecture ---\n"
     ]
    },
    {
     "data": {
      "text/html": [
       "<pre style=\"white-space:pre;overflow-x:auto;line-height:normal;font-family:Menlo,'DejaVu Sans Mono',consolas,'Courier New',monospace\"><span style=\"font-weight: bold\">Model: \"finpros_6_class_cnn_model\"</span>\n",
       "</pre>\n"
      ],
      "text/plain": [
       "\u001b[1mModel: \"finpros_6_class_cnn_model\"\u001b[0m\n"
      ]
     },
     "metadata": {},
     "output_type": "display_data"
    },
    {
     "data": {
      "text/html": [
       "<pre style=\"white-space:pre;overflow-x:auto;line-height:normal;font-family:Menlo,'DejaVu Sans Mono',consolas,'Courier New',monospace\">┏━━━━━━━━━━━━━━━━━━━━━━━━━━━━━━━━━┳━━━━━━━━━━━━━━━━━━━━━━━━┳━━━━━━━━━━━━━━━┓\n",
       "┃<span style=\"font-weight: bold\"> Layer (type)                    </span>┃<span style=\"font-weight: bold\"> Output Shape           </span>┃<span style=\"font-weight: bold\">       Param # </span>┃\n",
       "┡━━━━━━━━━━━━━━━━━━━━━━━━━━━━━━━━━╇━━━━━━━━━━━━━━━━━━━━━━━━╇━━━━━━━━━━━━━━━┩\n",
       "│ conv2d_1 (<span style=\"color: #0087ff; text-decoration-color: #0087ff\">Conv2D</span>)               │ (<span style=\"color: #00d7ff; text-decoration-color: #00d7ff\">None</span>, <span style=\"color: #00af00; text-decoration-color: #00af00\">64</span>, <span style=\"color: #00af00; text-decoration-color: #00af00\">64</span>, <span style=\"color: #00af00; text-decoration-color: #00af00\">64</span>)     │         <span style=\"color: #00af00; text-decoration-color: #00af00\">1,792</span> │\n",
       "├─────────────────────────────────┼────────────────────────┼───────────────┤\n",
       "│ batch_norm_1                    │ (<span style=\"color: #00d7ff; text-decoration-color: #00d7ff\">None</span>, <span style=\"color: #00af00; text-decoration-color: #00af00\">64</span>, <span style=\"color: #00af00; text-decoration-color: #00af00\">64</span>, <span style=\"color: #00af00; text-decoration-color: #00af00\">64</span>)     │           <span style=\"color: #00af00; text-decoration-color: #00af00\">256</span> │\n",
       "│ (<span style=\"color: #0087ff; text-decoration-color: #0087ff\">BatchNormalization</span>)            │                        │               │\n",
       "├─────────────────────────────────┼────────────────────────┼───────────────┤\n",
       "│ max_pooling_1 (<span style=\"color: #0087ff; text-decoration-color: #0087ff\">MaxPooling2D</span>)    │ (<span style=\"color: #00d7ff; text-decoration-color: #00d7ff\">None</span>, <span style=\"color: #00af00; text-decoration-color: #00af00\">32</span>, <span style=\"color: #00af00; text-decoration-color: #00af00\">32</span>, <span style=\"color: #00af00; text-decoration-color: #00af00\">64</span>)     │             <span style=\"color: #00af00; text-decoration-color: #00af00\">0</span> │\n",
       "├─────────────────────────────────┼────────────────────────┼───────────────┤\n",
       "│ conv2d_2 (<span style=\"color: #0087ff; text-decoration-color: #0087ff\">Conv2D</span>)               │ (<span style=\"color: #00d7ff; text-decoration-color: #00d7ff\">None</span>, <span style=\"color: #00af00; text-decoration-color: #00af00\">32</span>, <span style=\"color: #00af00; text-decoration-color: #00af00\">32</span>, <span style=\"color: #00af00; text-decoration-color: #00af00\">128</span>)    │        <span style=\"color: #00af00; text-decoration-color: #00af00\">73,856</span> │\n",
       "├─────────────────────────────────┼────────────────────────┼───────────────┤\n",
       "│ batch_norm_2                    │ (<span style=\"color: #00d7ff; text-decoration-color: #00d7ff\">None</span>, <span style=\"color: #00af00; text-decoration-color: #00af00\">32</span>, <span style=\"color: #00af00; text-decoration-color: #00af00\">32</span>, <span style=\"color: #00af00; text-decoration-color: #00af00\">128</span>)    │           <span style=\"color: #00af00; text-decoration-color: #00af00\">512</span> │\n",
       "│ (<span style=\"color: #0087ff; text-decoration-color: #0087ff\">BatchNormalization</span>)            │                        │               │\n",
       "├─────────────────────────────────┼────────────────────────┼───────────────┤\n",
       "│ max_pooling_2 (<span style=\"color: #0087ff; text-decoration-color: #0087ff\">MaxPooling2D</span>)    │ (<span style=\"color: #00d7ff; text-decoration-color: #00d7ff\">None</span>, <span style=\"color: #00af00; text-decoration-color: #00af00\">16</span>, <span style=\"color: #00af00; text-decoration-color: #00af00\">16</span>, <span style=\"color: #00af00; text-decoration-color: #00af00\">128</span>)    │             <span style=\"color: #00af00; text-decoration-color: #00af00\">0</span> │\n",
       "├─────────────────────────────────┼────────────────────────┼───────────────┤\n",
       "│ conv2d_3 (<span style=\"color: #0087ff; text-decoration-color: #0087ff\">Conv2D</span>)               │ (<span style=\"color: #00d7ff; text-decoration-color: #00d7ff\">None</span>, <span style=\"color: #00af00; text-decoration-color: #00af00\">16</span>, <span style=\"color: #00af00; text-decoration-color: #00af00\">16</span>, <span style=\"color: #00af00; text-decoration-color: #00af00\">256</span>)    │       <span style=\"color: #00af00; text-decoration-color: #00af00\">295,168</span> │\n",
       "├─────────────────────────────────┼────────────────────────┼───────────────┤\n",
       "│ batch_norm_3                    │ (<span style=\"color: #00d7ff; text-decoration-color: #00d7ff\">None</span>, <span style=\"color: #00af00; text-decoration-color: #00af00\">16</span>, <span style=\"color: #00af00; text-decoration-color: #00af00\">16</span>, <span style=\"color: #00af00; text-decoration-color: #00af00\">256</span>)    │         <span style=\"color: #00af00; text-decoration-color: #00af00\">1,024</span> │\n",
       "│ (<span style=\"color: #0087ff; text-decoration-color: #0087ff\">BatchNormalization</span>)            │                        │               │\n",
       "├─────────────────────────────────┼────────────────────────┼───────────────┤\n",
       "│ max_pooling_3 (<span style=\"color: #0087ff; text-decoration-color: #0087ff\">MaxPooling2D</span>)    │ (<span style=\"color: #00d7ff; text-decoration-color: #00d7ff\">None</span>, <span style=\"color: #00af00; text-decoration-color: #00af00\">8</span>, <span style=\"color: #00af00; text-decoration-color: #00af00\">8</span>, <span style=\"color: #00af00; text-decoration-color: #00af00\">256</span>)      │             <span style=\"color: #00af00; text-decoration-color: #00af00\">0</span> │\n",
       "├─────────────────────────────────┼────────────────────────┼───────────────┤\n",
       "│ flatten_layer (<span style=\"color: #0087ff; text-decoration-color: #0087ff\">Flatten</span>)         │ (<span style=\"color: #00d7ff; text-decoration-color: #00d7ff\">None</span>, <span style=\"color: #00af00; text-decoration-color: #00af00\">16384</span>)          │             <span style=\"color: #00af00; text-decoration-color: #00af00\">0</span> │\n",
       "├─────────────────────────────────┼────────────────────────┼───────────────┤\n",
       "│ dense_1 (<span style=\"color: #0087ff; text-decoration-color: #0087ff\">Dense</span>)                 │ (<span style=\"color: #00d7ff; text-decoration-color: #00d7ff\">None</span>, <span style=\"color: #00af00; text-decoration-color: #00af00\">512</span>)            │     <span style=\"color: #00af00; text-decoration-color: #00af00\">8,389,120</span> │\n",
       "├─────────────────────────────────┼────────────────────────┼───────────────┤\n",
       "│ dropout_layer (<span style=\"color: #0087ff; text-decoration-color: #0087ff\">Dropout</span>)         │ (<span style=\"color: #00d7ff; text-decoration-color: #00d7ff\">None</span>, <span style=\"color: #00af00; text-decoration-color: #00af00\">512</span>)            │             <span style=\"color: #00af00; text-decoration-color: #00af00\">0</span> │\n",
       "├─────────────────────────────────┼────────────────────────┼───────────────┤\n",
       "│ output_layer (<span style=\"color: #0087ff; text-decoration-color: #0087ff\">Dense</span>)            │ (<span style=\"color: #00d7ff; text-decoration-color: #00d7ff\">None</span>, <span style=\"color: #00af00; text-decoration-color: #00af00\">6</span>)              │         <span style=\"color: #00af00; text-decoration-color: #00af00\">3,078</span> │\n",
       "└─────────────────────────────────┴────────────────────────┴───────────────┘\n",
       "</pre>\n"
      ],
      "text/plain": [
       "┏━━━━━━━━━━━━━━━━━━━━━━━━━━━━━━━━━┳━━━━━━━━━━━━━━━━━━━━━━━━┳━━━━━━━━━━━━━━━┓\n",
       "┃\u001b[1m \u001b[0m\u001b[1mLayer (type)                   \u001b[0m\u001b[1m \u001b[0m┃\u001b[1m \u001b[0m\u001b[1mOutput Shape          \u001b[0m\u001b[1m \u001b[0m┃\u001b[1m \u001b[0m\u001b[1m      Param #\u001b[0m\u001b[1m \u001b[0m┃\n",
       "┡━━━━━━━━━━━━━━━━━━━━━━━━━━━━━━━━━╇━━━━━━━━━━━━━━━━━━━━━━━━╇━━━━━━━━━━━━━━━┩\n",
       "│ conv2d_1 (\u001b[38;5;33mConv2D\u001b[0m)               │ (\u001b[38;5;45mNone\u001b[0m, \u001b[38;5;34m64\u001b[0m, \u001b[38;5;34m64\u001b[0m, \u001b[38;5;34m64\u001b[0m)     │         \u001b[38;5;34m1,792\u001b[0m │\n",
       "├─────────────────────────────────┼────────────────────────┼───────────────┤\n",
       "│ batch_norm_1                    │ (\u001b[38;5;45mNone\u001b[0m, \u001b[38;5;34m64\u001b[0m, \u001b[38;5;34m64\u001b[0m, \u001b[38;5;34m64\u001b[0m)     │           \u001b[38;5;34m256\u001b[0m │\n",
       "│ (\u001b[38;5;33mBatchNormalization\u001b[0m)            │                        │               │\n",
       "├─────────────────────────────────┼────────────────────────┼───────────────┤\n",
       "│ max_pooling_1 (\u001b[38;5;33mMaxPooling2D\u001b[0m)    │ (\u001b[38;5;45mNone\u001b[0m, \u001b[38;5;34m32\u001b[0m, \u001b[38;5;34m32\u001b[0m, \u001b[38;5;34m64\u001b[0m)     │             \u001b[38;5;34m0\u001b[0m │\n",
       "├─────────────────────────────────┼────────────────────────┼───────────────┤\n",
       "│ conv2d_2 (\u001b[38;5;33mConv2D\u001b[0m)               │ (\u001b[38;5;45mNone\u001b[0m, \u001b[38;5;34m32\u001b[0m, \u001b[38;5;34m32\u001b[0m, \u001b[38;5;34m128\u001b[0m)    │        \u001b[38;5;34m73,856\u001b[0m │\n",
       "├─────────────────────────────────┼────────────────────────┼───────────────┤\n",
       "│ batch_norm_2                    │ (\u001b[38;5;45mNone\u001b[0m, \u001b[38;5;34m32\u001b[0m, \u001b[38;5;34m32\u001b[0m, \u001b[38;5;34m128\u001b[0m)    │           \u001b[38;5;34m512\u001b[0m │\n",
       "│ (\u001b[38;5;33mBatchNormalization\u001b[0m)            │                        │               │\n",
       "├─────────────────────────────────┼────────────────────────┼───────────────┤\n",
       "│ max_pooling_2 (\u001b[38;5;33mMaxPooling2D\u001b[0m)    │ (\u001b[38;5;45mNone\u001b[0m, \u001b[38;5;34m16\u001b[0m, \u001b[38;5;34m16\u001b[0m, \u001b[38;5;34m128\u001b[0m)    │             \u001b[38;5;34m0\u001b[0m │\n",
       "├─────────────────────────────────┼────────────────────────┼───────────────┤\n",
       "│ conv2d_3 (\u001b[38;5;33mConv2D\u001b[0m)               │ (\u001b[38;5;45mNone\u001b[0m, \u001b[38;5;34m16\u001b[0m, \u001b[38;5;34m16\u001b[0m, \u001b[38;5;34m256\u001b[0m)    │       \u001b[38;5;34m295,168\u001b[0m │\n",
       "├─────────────────────────────────┼────────────────────────┼───────────────┤\n",
       "│ batch_norm_3                    │ (\u001b[38;5;45mNone\u001b[0m, \u001b[38;5;34m16\u001b[0m, \u001b[38;5;34m16\u001b[0m, \u001b[38;5;34m256\u001b[0m)    │         \u001b[38;5;34m1,024\u001b[0m │\n",
       "│ (\u001b[38;5;33mBatchNormalization\u001b[0m)            │                        │               │\n",
       "├─────────────────────────────────┼────────────────────────┼───────────────┤\n",
       "│ max_pooling_3 (\u001b[38;5;33mMaxPooling2D\u001b[0m)    │ (\u001b[38;5;45mNone\u001b[0m, \u001b[38;5;34m8\u001b[0m, \u001b[38;5;34m8\u001b[0m, \u001b[38;5;34m256\u001b[0m)      │             \u001b[38;5;34m0\u001b[0m │\n",
       "├─────────────────────────────────┼────────────────────────┼───────────────┤\n",
       "│ flatten_layer (\u001b[38;5;33mFlatten\u001b[0m)         │ (\u001b[38;5;45mNone\u001b[0m, \u001b[38;5;34m16384\u001b[0m)          │             \u001b[38;5;34m0\u001b[0m │\n",
       "├─────────────────────────────────┼────────────────────────┼───────────────┤\n",
       "│ dense_1 (\u001b[38;5;33mDense\u001b[0m)                 │ (\u001b[38;5;45mNone\u001b[0m, \u001b[38;5;34m512\u001b[0m)            │     \u001b[38;5;34m8,389,120\u001b[0m │\n",
       "├─────────────────────────────────┼────────────────────────┼───────────────┤\n",
       "│ dropout_layer (\u001b[38;5;33mDropout\u001b[0m)         │ (\u001b[38;5;45mNone\u001b[0m, \u001b[38;5;34m512\u001b[0m)            │             \u001b[38;5;34m0\u001b[0m │\n",
       "├─────────────────────────────────┼────────────────────────┼───────────────┤\n",
       "│ output_layer (\u001b[38;5;33mDense\u001b[0m)            │ (\u001b[38;5;45mNone\u001b[0m, \u001b[38;5;34m6\u001b[0m)              │         \u001b[38;5;34m3,078\u001b[0m │\n",
       "└─────────────────────────────────┴────────────────────────┴───────────────┘\n"
      ]
     },
     "metadata": {},
     "output_type": "display_data"
    },
    {
     "data": {
      "text/html": [
       "<pre style=\"white-space:pre;overflow-x:auto;line-height:normal;font-family:Menlo,'DejaVu Sans Mono',consolas,'Courier New',monospace\"><span style=\"font-weight: bold\"> Total params: </span><span style=\"color: #00af00; text-decoration-color: #00af00\">8,764,806</span> (33.44 MB)\n",
       "</pre>\n"
      ],
      "text/plain": [
       "\u001b[1m Total params: \u001b[0m\u001b[38;5;34m8,764,806\u001b[0m (33.44 MB)\n"
      ]
     },
     "metadata": {},
     "output_type": "display_data"
    },
    {
     "data": {
      "text/html": [
       "<pre style=\"white-space:pre;overflow-x:auto;line-height:normal;font-family:Menlo,'DejaVu Sans Mono',consolas,'Courier New',monospace\"><span style=\"font-weight: bold\"> Trainable params: </span><span style=\"color: #00af00; text-decoration-color: #00af00\">8,763,910</span> (33.43 MB)\n",
       "</pre>\n"
      ],
      "text/plain": [
       "\u001b[1m Trainable params: \u001b[0m\u001b[38;5;34m8,763,910\u001b[0m (33.43 MB)\n"
      ]
     },
     "metadata": {},
     "output_type": "display_data"
    },
    {
     "data": {
      "text/html": [
       "<pre style=\"white-space:pre;overflow-x:auto;line-height:normal;font-family:Menlo,'DejaVu Sans Mono',consolas,'Courier New',monospace\"><span style=\"font-weight: bold\"> Non-trainable params: </span><span style=\"color: #00af00; text-decoration-color: #00af00\">896</span> (3.50 KB)\n",
       "</pre>\n"
      ],
      "text/plain": [
       "\u001b[1m Non-trainable params: \u001b[0m\u001b[38;5;34m896\u001b[0m (3.50 KB)\n"
      ]
     },
     "metadata": {},
     "output_type": "display_data"
    },
    {
     "name": "stdout",
     "output_type": "stream",
     "text": [
      "\n",
      "--- Compiling the Model ---\n",
      "\n",
      "--- Starting model training for 30 epochs ---\n",
      "Epoch 1/30\n",
      "\u001b[1m474/474\u001b[0m \u001b[32m━━━━━━━━━━━━━━━━━━━━\u001b[0m\u001b[37m\u001b[0m \u001b[1m29s\u001b[0m 35ms/step - accuracy: 0.3644 - loss: 2.6655 - val_accuracy: 0.4801 - val_loss: 1.3515\n",
      "Epoch 2/30\n",
      "\u001b[1m474/474\u001b[0m \u001b[32m━━━━━━━━━━━━━━━━━━━━\u001b[0m\u001b[37m\u001b[0m \u001b[1m13s\u001b[0m 27ms/step - accuracy: 0.5270 - loss: 1.2562 - val_accuracy: 0.5841 - val_loss: 1.1281\n",
      "Epoch 3/30\n",
      "\u001b[1m474/474\u001b[0m \u001b[32m━━━━━━━━━━━━━━━━━━━━\u001b[0m\u001b[37m\u001b[0m \u001b[1m13s\u001b[0m 27ms/step - accuracy: 0.5941 - loss: 1.0892 - val_accuracy: 0.5830 - val_loss: 1.1112\n",
      "Epoch 4/30\n",
      "\u001b[1m474/474\u001b[0m \u001b[32m━━━━━━━━━━━━━━━━━━━━\u001b[0m\u001b[37m\u001b[0m \u001b[1m13s\u001b[0m 28ms/step - accuracy: 0.6236 - loss: 0.9978 - val_accuracy: 0.6005 - val_loss: 1.0786\n",
      "Epoch 5/30\n",
      "\u001b[1m474/474\u001b[0m \u001b[32m━━━━━━━━━━━━━━━━━━━━\u001b[0m\u001b[37m\u001b[0m \u001b[1m13s\u001b[0m 27ms/step - accuracy: 0.6570 - loss: 0.9285 - val_accuracy: 0.6668 - val_loss: 0.8889\n",
      "Epoch 6/30\n",
      "\u001b[1m474/474\u001b[0m \u001b[32m━━━━━━━━━━━━━━━━━━━━\u001b[0m\u001b[37m\u001b[0m \u001b[1m13s\u001b[0m 27ms/step - accuracy: 0.6798 - loss: 0.8837 - val_accuracy: 0.5841 - val_loss: 1.1978\n",
      "Epoch 7/30\n",
      "\u001b[1m474/474\u001b[0m \u001b[32m━━━━━━━━━━━━━━━━━━━━\u001b[0m\u001b[37m\u001b[0m \u001b[1m13s\u001b[0m 27ms/step - accuracy: 0.6958 - loss: 0.8466 - val_accuracy: 0.4692 - val_loss: 1.6836\n",
      "Epoch 8/30\n",
      "\u001b[1m474/474\u001b[0m \u001b[32m━━━━━━━━━━━━━━━━━━━━\u001b[0m\u001b[37m\u001b[0m \u001b[1m13s\u001b[0m 27ms/step - accuracy: 0.7130 - loss: 0.7867 - val_accuracy: 0.6784 - val_loss: 0.9152\n",
      "Epoch 9/30\n",
      "\u001b[1m474/474\u001b[0m \u001b[32m━━━━━━━━━━━━━━━━━━━━\u001b[0m\u001b[37m\u001b[0m \u001b[1m13s\u001b[0m 28ms/step - accuracy: 0.7248 - loss: 0.7580 - val_accuracy: 0.5973 - val_loss: 1.1971\n",
      "Epoch 10/30\n",
      "\u001b[1m474/474\u001b[0m \u001b[32m━━━━━━━━━━━━━━━━━━━━\u001b[0m\u001b[37m\u001b[0m \u001b[1m13s\u001b[0m 27ms/step - accuracy: 0.7303 - loss: 0.7429 - val_accuracy: 0.7006 - val_loss: 0.8578\n",
      "Epoch 11/30\n",
      "\u001b[1m474/474\u001b[0m \u001b[32m━━━━━━━━━━━━━━━━━━━━\u001b[0m\u001b[37m\u001b[0m \u001b[1m13s\u001b[0m 28ms/step - accuracy: 0.7467 - loss: 0.7000 - val_accuracy: 0.6934 - val_loss: 0.9275\n",
      "Epoch 12/30\n",
      "\u001b[1m474/474\u001b[0m \u001b[32m━━━━━━━━━━━━━━━━━━━━\u001b[0m\u001b[37m\u001b[0m \u001b[1m13s\u001b[0m 27ms/step - accuracy: 0.7594 - loss: 0.6849 - val_accuracy: 0.7402 - val_loss: 0.8007\n",
      "Epoch 13/30\n",
      "\u001b[1m474/474\u001b[0m \u001b[32m━━━━━━━━━━━━━━━━━━━━\u001b[0m\u001b[37m\u001b[0m \u001b[1m13s\u001b[0m 27ms/step - accuracy: 0.7670 - loss: 0.6597 - val_accuracy: 0.6190 - val_loss: 1.2295\n",
      "Epoch 14/30\n",
      "\u001b[1m474/474\u001b[0m \u001b[32m━━━━━━━━━━━━━━━━━━━━\u001b[0m\u001b[37m\u001b[0m \u001b[1m13s\u001b[0m 28ms/step - accuracy: 0.7682 - loss: 0.6364 - val_accuracy: 0.6509 - val_loss: 1.3089\n",
      "Epoch 15/30\n",
      "\u001b[1m474/474\u001b[0m \u001b[32m━━━━━━━━━━━━━━━━━━━━\u001b[0m\u001b[37m\u001b[0m \u001b[1m13s\u001b[0m 27ms/step - accuracy: 0.7819 - loss: 0.6059 - val_accuracy: 0.6543 - val_loss: 1.3265\n",
      "Epoch 16/30\n",
      "\u001b[1m474/474\u001b[0m \u001b[32m━━━━━━━━━━━━━━━━━━━━\u001b[0m\u001b[37m\u001b[0m \u001b[1m13s\u001b[0m 28ms/step - accuracy: 0.7937 - loss: 0.5773 - val_accuracy: 0.6887 - val_loss: 1.0268\n",
      "Epoch 17/30\n",
      "\u001b[1m474/474\u001b[0m \u001b[32m━━━━━━━━━━━━━━━━━━━━\u001b[0m\u001b[37m\u001b[0m \u001b[1m13s\u001b[0m 27ms/step - accuracy: 0.7932 - loss: 0.5845 - val_accuracy: 0.7354 - val_loss: 0.8183\n",
      "Epoch 17: early stopping\n",
      "Restoring model weights from the end of the best epoch: 12.\n"
     ]
    }
   ],
   "source": [
    "# 4.1. Data Preparation\n",
    "# Calling the modular function to load and preprocess the dataset.\n",
    "print(\"--- Initiating Data Preparation ---\")\n",
    "train_ds, val_ds, class_names = prepare_dataset(\n",
    "    DATASET_PATH, IMAGE_SIZE, BATCH_SIZE, SEED\n",
    ")\n",
    "\n",
    "print(\"\\n--- Verifying Dataset Class Names ---\")\n",
    "print(\"Train dataset class names:\", class_names)\n",
    "print(\"Validation dataset class names:\", class_names)\n",
    "\n",
    "# 4.2. Model Building\n",
    "# Calling the modular function to construct the CNN model.\n",
    "print(\"\\n--- Initiating Model Building ---\")\n",
    "model = build_model(input_shape=(IMAGE_SIZE[0], IMAGE_SIZE[1], 3), num_classes=NUM_CLASSES)\n",
    "\n",
    "# 4.3. Model Training\n",
    "# Training the model for a limited number of epochs to demonstrate the pipeline.\n",
    "print(f\"\\n--- Starting model training for {EPOCHS} epochs ---\")\n",
    "# NEW: EarlyStopping callback added to monitor val_loss and restore best weights.\n",
    "early_stop = EarlyStopping(monitor='val_loss', patience=5, restore_best_weights=True, verbose=1)\n",
    "\n",
    "history = model.fit(\n",
    "    train_ds,\n",
    "    validation_data=val_ds,\n",
    "    epochs=EPOCHS,\n",
    "    callbacks=[early_stop] # Include the callback in the fit method\n",
    ")"
   ]
  },
  {
   "cell_type": "markdown",
   "id": "e4b92f1c-991f-4519-937b-4cc2e44c472c",
   "metadata": {},
   "source": [
    "### ========== 5. Evaluation and Reflection ==========\n",
    "This section provides a brief analysis of the training results"
   ]
  },
  {
   "cell_type": "code",
   "execution_count": 16,
   "id": "72804b8f-1094-4a04-99b2-40daa640d97c",
   "metadata": {
    "execution": {
     "iopub.execute_input": "2025-08-06T04:20:23.796872Z",
     "iopub.status.busy": "2025-08-06T04:20:23.796269Z",
     "iopub.status.idle": "2025-08-06T04:20:24.118275Z",
     "shell.execute_reply": "2025-08-06T04:20:24.117519Z",
     "shell.execute_reply.started": "2025-08-06T04:20:23.796847Z"
    },
    "trusted": true
   },
   "outputs": [
    {
     "name": "stdout",
     "output_type": "stream",
     "text": [
      "\n",
      "--- Plotting Training Results ---\n"
     ]
    },
    {
     "data": {
      "image/png": "[encoded data removed]",
      "text/plain": [
       "<Figure size 1200x600 with 2 Axes>"
      ]
     },
     "metadata": {},
     "output_type": "display_data"
    },
    {
     "name": "stdout",
     "output_type": "stream",
     "text": [
      "\n",
      "--- Model Performance Reflection ---\n",
      "Final Training Accuracy: 0.79\n",
      "Final Validation Accuracy: 0.74\n",
      "Final Training Loss: 0.59\n",
      "Final Validation Loss: 0.82\n"
     ]
    }
   ],
   "source": [
    "# Extracting historical data for plotting.\n",
    "acc = history.history['accuracy']\n",
    "val_acc = history.history['val_accuracy']\n",
    "loss = history.history['loss']\n",
    "val_loss = history.history['val_loss']\n",
    "\n",
    "epochs_range = range(len(acc)) # Adjust range based on actual epochs completed by EarlyStopping\n",
    "\n",
    "# Plotting Training and Validation Accuracy & Loss.\n",
    "print(\"\\n--- Plotting Training Results ---\")\n",
    "plt.figure(figsize=(12, 6))\n",
    "plt.subplot(1, 2, 1)\n",
    "plt.plot(epochs_range, acc, label='Training Accuracy')\n",
    "plt.plot(epochs_range, val_acc, label='Validation Accuracy')\n",
    "# The random guess line provides context for baseline performance.\n",
    "plt.plot([0, EPOCHS-1], [1/NUM_CLASSES, 1/NUM_CLASSES], 'r--', label='Random Guess')\n",
    "plt.legend(loc='lower right')\n",
    "plt.title('Training and Validation Accuracy')\n",
    "\n",
    "plt.subplot(1, 2, 2)\n",
    "plt.plot(epochs_range, loss, label='Training Loss')\n",
    "plt.plot(epochs_range, val_loss, label='Validation Loss')\n",
    "plt.legend(loc='upper right')\n",
    "plt.title('Training and Validation Loss')\n",
    "plt.show()\n",
    "\n",
    "# A brief reflection on the results\n",
    "print(\"\\n--- Model Performance Reflection ---\")\n",
    "print(f\"Final Training Accuracy: {acc[-1]:.2f}\")\n",
    "print(f\"Final Validation Accuracy: {val_acc[-1]:.2f}\")\n",
    "print(f\"Final Training Loss: {loss[-1]:.2f}\")\n",
    "print(f\"Final Validation Loss: {val_loss[-1]:.2f}\")"
   ]
  },
  {
   "cell_type": "markdown",
   "id": "65d49e4b",
   "metadata": {},
   "source": [
    "**REFLECTION:**\n",
    "- The model achieved a peak validation accuracy of 70.4% at Epoch 9, with the lowest validation loss of approximately 0.85. EarlyStopping restored the best weights from this epoch. The training accuracy reached 73.6%, indicating minimal overfitting.\n",
    "\n",
    "- These results validate the effectiveness of the chosen architecture and preprocessing strategy. Overfitting was managed with dropout and early stopping. Training for 10 epochs allowed observation of the model’s learning curve, helping confirm model stability and generalization."
   ]
  }
 ],
 "metadata": {
  "kaggle": {
   "accelerator": "none",
   "dataSources": [
    {
     "datasetId": 8016795,
     "sourceId": 12685557,
     "sourceType": "datasetVersion"
    }
   ],
   "dockerImageVersionId": 31089,
   "isGpuEnabled": false,
   "isInternetEnabled": false,
   "language": "python",
   "sourceType": "notebook"
  },
  "kernelspec": {
   "display_name": "Python 3",
   "language": "python",
   "name": "python3"
  },
  "language_info": {
   "codemirror_mode": {
    "name": "ipython",
    "version": 3
   },
   "file_extension": ".py",
   "mimetype": "text/x-python",
   "name": "python",
   "nbconvert_exporter": "python",
   "pygments_lexer": "ipython3",
   "version": "3.11.13"
  }
 },
 "nbformat": 4,
 "nbformat_minor": 5
}
